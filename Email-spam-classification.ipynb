{
 "cells": [
  {
   "cell_type": "markdown",
   "id": "0915ffef-aea9-42fd-aad3-ddd2ccb69f09",
   "metadata": {},
   "source": [
    "# Importing dependencies"
   ]
  },
  {
   "cell_type": "code",
   "execution_count": 1,
   "id": "61df8789-fc97-4d3e-86aa-9c3bb119e2ad",
   "metadata": {},
   "outputs": [],
   "source": [
    "import pandas as pd\n",
    "import numpy as np\n",
    "import matplotlib.pyplot as plt\n",
    "from sklearn.model_selection import train_test_split\n",
    "from sklearn.linear_model import LogisticRegression\n",
    "from sklearn.feature_extraction.text import TfidfVectorizer\n",
    "from sklearn.metrics import accuracy_score"
   ]
  },
  {
   "cell_type": "markdown",
   "id": "93ae915f-d66d-4182-adff-d322e927c92c",
   "metadata": {},
   "source": [
    "# Loading dataset"
   ]
  },
  {
   "cell_type": "code",
   "execution_count": 117,
   "id": "988678a2-ec28-4ad2-8381-5f05290ac2d5",
   "metadata": {},
   "outputs": [
    {
     "data": {
      "text/html": [
       "<div>\n",
       "<style scoped>\n",
       "    .dataframe tbody tr th:only-of-type {\n",
       "        vertical-align: middle;\n",
       "    }\n",
       "\n",
       "    .dataframe tbody tr th {\n",
       "        vertical-align: top;\n",
       "    }\n",
       "\n",
       "    .dataframe thead th {\n",
       "        text-align: right;\n",
       "    }\n",
       "</style>\n",
       "<table border=\"1\" class=\"dataframe\">\n",
       "  <thead>\n",
       "    <tr style=\"text-align: right;\">\n",
       "      <th></th>\n",
       "      <th>email</th>\n",
       "      <th>label</th>\n",
       "    </tr>\n",
       "  </thead>\n",
       "  <tbody>\n",
       "    <tr>\n",
       "      <th>0</th>\n",
       "      <td>Upgrade to our premium plan for exclusive acce...</td>\n",
       "      <td>ham</td>\n",
       "    </tr>\n",
       "    <tr>\n",
       "      <th>1</th>\n",
       "      <td>Happy holidays from our team! Wishing you joy ...</td>\n",
       "      <td>ham</td>\n",
       "    </tr>\n",
       "    <tr>\n",
       "      <th>2</th>\n",
       "      <td>We're hiring! Check out our career opportuniti...</td>\n",
       "      <td>ham</td>\n",
       "    </tr>\n",
       "    <tr>\n",
       "      <th>3</th>\n",
       "      <td>Your Amazon account has been locked. Click her...</td>\n",
       "      <td>spam</td>\n",
       "    </tr>\n",
       "    <tr>\n",
       "      <th>4</th>\n",
       "      <td>Your opinion matters! Take our survey and help...</td>\n",
       "      <td>ham</td>\n",
       "    </tr>\n",
       "  </tbody>\n",
       "</table>\n",
       "</div>"
      ],
      "text/plain": [
       "                                               email label\n",
       "0  Upgrade to our premium plan for exclusive acce...   ham\n",
       "1  Happy holidays from our team! Wishing you joy ...   ham\n",
       "2  We're hiring! Check out our career opportuniti...   ham\n",
       "3  Your Amazon account has been locked. Click her...  spam\n",
       "4  Your opinion matters! Take our survey and help...   ham"
      ]
     },
     "execution_count": 117,
     "metadata": {},
     "output_type": "execute_result"
    }
   ],
   "source": [
    "raw_mail = pd.read_csv('email_classification.csv')\n",
    "raw_mail.head()"
   ]
  },
  {
   "cell_type": "code",
   "execution_count": 118,
   "id": "36c40968-3b66-4559-a6f2-c9aa2c3a88fa",
   "metadata": {},
   "outputs": [],
   "source": [
    "mail = raw_mail.where((pd.notnull(raw_mail)),'')"
   ]
  },
  {
   "cell_type": "code",
   "execution_count": 119,
   "id": "b2a57014-0a63-4f04-97e6-03123ee1b1c0",
   "metadata": {},
   "outputs": [
    {
     "data": {
      "text/html": [
       "<div>\n",
       "<style scoped>\n",
       "    .dataframe tbody tr th:only-of-type {\n",
       "        vertical-align: middle;\n",
       "    }\n",
       "\n",
       "    .dataframe tbody tr th {\n",
       "        vertical-align: top;\n",
       "    }\n",
       "\n",
       "    .dataframe thead th {\n",
       "        text-align: right;\n",
       "    }\n",
       "</style>\n",
       "<table border=\"1\" class=\"dataframe\">\n",
       "  <thead>\n",
       "    <tr style=\"text-align: right;\">\n",
       "      <th></th>\n",
       "      <th>email</th>\n",
       "      <th>label</th>\n",
       "    </tr>\n",
       "  </thead>\n",
       "  <tbody>\n",
       "    <tr>\n",
       "      <th>0</th>\n",
       "      <td>Upgrade to our premium plan for exclusive acce...</td>\n",
       "      <td>ham</td>\n",
       "    </tr>\n",
       "    <tr>\n",
       "      <th>1</th>\n",
       "      <td>Happy holidays from our team! Wishing you joy ...</td>\n",
       "      <td>ham</td>\n",
       "    </tr>\n",
       "    <tr>\n",
       "      <th>2</th>\n",
       "      <td>We're hiring! Check out our career opportuniti...</td>\n",
       "      <td>ham</td>\n",
       "    </tr>\n",
       "    <tr>\n",
       "      <th>3</th>\n",
       "      <td>Your Amazon account has been locked. Click her...</td>\n",
       "      <td>spam</td>\n",
       "    </tr>\n",
       "    <tr>\n",
       "      <th>4</th>\n",
       "      <td>Your opinion matters! Take our survey and help...</td>\n",
       "      <td>ham</td>\n",
       "    </tr>\n",
       "  </tbody>\n",
       "</table>\n",
       "</div>"
      ],
      "text/plain": [
       "                                               email label\n",
       "0  Upgrade to our premium plan for exclusive acce...   ham\n",
       "1  Happy holidays from our team! Wishing you joy ...   ham\n",
       "2  We're hiring! Check out our career opportuniti...   ham\n",
       "3  Your Amazon account has been locked. Click her...  spam\n",
       "4  Your opinion matters! Take our survey and help...   ham"
      ]
     },
     "execution_count": 119,
     "metadata": {},
     "output_type": "execute_result"
    }
   ],
   "source": [
    "mail.head()"
   ]
  },
  {
   "cell_type": "markdown",
   "id": "4664b313-2bdd-4a8b-8fc0-1d637f51191f",
   "metadata": {},
   "source": [
    "# Label encoding"
   ]
  },
  {
   "cell_type": "code",
   "execution_count": 128,
   "id": "e662dd51-5018-4160-ada3-66eabbf72bc7",
   "metadata": {},
   "outputs": [],
   "source": [
    "mail.loc[mail['label'] == 'spam', 'label',] = 0\n",
    "mail.loc[mail['label'] == 'ham', 'label',] = 1"
   ]
  },
  {
   "cell_type": "code",
   "execution_count": 130,
   "id": "215eb622-2ada-46c0-81ea-54b9ca7cc274",
   "metadata": {},
   "outputs": [],
   "source": [
    "x = mail['email']\n",
    "y = mail['label']"
   ]
  },
  {
   "cell_type": "markdown",
   "id": "68fd6d0e-a589-4dee-8b19-bd3325edea5d",
   "metadata": {},
   "source": [
    "# Splitting data into train and test data"
   ]
  },
  {
   "cell_type": "code",
   "execution_count": 133,
   "id": "655a5d67-01bd-482b-9248-9939782f6646",
   "metadata": {},
   "outputs": [],
   "source": [
    "X_train, X_test, y_train, y_test = train_test_split(x,y,test_size=0.1,random_state=3)"
   ]
  },
  {
   "cell_type": "code",
   "execution_count": 134,
   "id": "d37b3bd4-09c5-4e54-bbc3-5e779484dd3f",
   "metadata": {},
   "outputs": [
    {
     "data": {
      "text/plain": [
       "6      Your email account storage is full. Click here...\n",
       "73     Thank you for attending our workshop. Here are...\n",
       "41     We appreciate your business. Here's a token of...\n",
       "47     You've been selected for a free iPhone X. Clic...\n",
       "176    Your free trial period is ending soon. Upgrade...\n",
       "67     Congratulations! You're our lucky winner of th...\n",
       "155    We're thrilled to announce our partnership wit...\n",
       "112    Stay in the loop with our newsletter. Subscrib...\n",
       "146    We're extending our sale for one more day due ...\n",
       "25     We've extended our sale for one more day! Don'...\n",
       "87     We're excited to share our latest blog post wi...\n",
       "4      Your opinion matters! Take our survey and help...\n",
       "23     Your PayPal account has been suspended. Click ...\n",
       "3      Your Amazon account has been locked. Click her...\n",
       "72     Good morning! Attached is the report you reque...\n",
       "126    We've launched a new feature based on user fee...\n",
       "133    You're invited to a special event. Click here ...\n",
       "86     Your annual membership has been renewed. Enjoy...\n",
       "Name: email, dtype: object"
      ]
     },
     "execution_count": 134,
     "metadata": {},
     "output_type": "execute_result"
    }
   ],
   "source": [
    "X_test"
   ]
  },
  {
   "cell_type": "markdown",
   "id": "e71636d7-5ff3-40b8-b9d5-25c635297ff3",
   "metadata": {},
   "source": [
    "# Feature extraction"
   ]
  },
  {
   "cell_type": "code",
   "execution_count": 155,
   "id": "aa9a5bea-7181-4617-b758-d0ac5305e243",
   "metadata": {},
   "outputs": [],
   "source": [
    "feature_extraction = TfidfVectorizer(min_df=1, stop_words='english', lowercase=True)\n",
    "\n",
    "X_train_features = feature_extraction.fit_transform(X_train)\n",
    "X_test_features = feature_extraction.transform(X_test)\n",
    "\n",
    "y_train = y_train.astype('int')\n",
    "y_test = y_test.astype('int')"
   ]
  },
  {
   "cell_type": "code",
   "execution_count": 156,
   "id": "3f7b7c35-4d95-4e59-83e8-323b6a7a4b32",
   "metadata": {},
   "outputs": [
    {
     "name": "stdout",
     "output_type": "stream",
     "text": [
      "  (0, 358)\t0.36160559511978\n",
      "  (0, 121)\t0.33041881908941517\n",
      "  (0, 31)\t0.4149197408845378\n",
      "  (0, 17)\t0.38373296485417285\n",
      "  (0, 120)\t0.36160559511978\n",
      "  (0, 207)\t0.30829144935502234\n",
      "  (0, 9)\t0.4149197408845378\n",
      "  (0, 371)\t0.20662720618330413\n",
      "  (1, 51)\t0.36707961679613343\n",
      "  (1, 213)\t0.33948866686946094\n",
      "  (1, 366)\t0.33948866686946094\n",
      "  (1, 118)\t0.33948866686946094\n",
      "  (1, 257)\t0.36707961679613343\n",
      "  (1, 375)\t0.36707961679613343\n",
      "  (1, 141)\t0.36707961679613343\n",
      "  (1, 113)\t0.33948866686946094\n",
      "  (2, 295)\t0.44086670354344487\n",
      "  (2, 55)\t0.18874050894509203\n",
      "  (2, 135)\t0.45957772685179105\n",
      "  (2, 2)\t0.5446612366607229\n",
      "  (2, 116)\t0.5120019728974065\n",
      "  (3, 150)\t0.5\n",
      "  (3, 176)\t0.5\n",
      "  (3, 180)\t0.5\n",
      "  (3, 313)\t0.5\n",
      "  :\t:\n",
      "  (157, 111)\t0.27675474662057914\n",
      "  (157, 120)\t0.3526322633232568\n",
      "  (158, 208)\t0.4444615241117209\n",
      "  (158, 351)\t0.41105428738435545\n",
      "  (158, 177)\t0.3412433970401375\n",
      "  (158, 319)\t0.35394423898607325\n",
      "  (158, 109)\t0.3412433970401375\n",
      "  (158, 303)\t0.38735147571343864\n",
      "  (158, 360)\t0.35394423898607325\n",
      "  (159, 256)\t0.3848248170937265\n",
      "  (159, 385)\t0.3848248170937265\n",
      "  (159, 147)\t0.3848248170937265\n",
      "  (159, 246)\t0.33537764847096274\n",
      "  (159, 90)\t0.3194592156786623\n",
      "  (159, 287)\t0.3194592156786623\n",
      "  (159, 14)\t0.3559000776825739\n",
      "  (159, 260)\t0.33537764847096274\n",
      "  (160, 66)\t0.38028143737290565\n",
      "  (160, 262)\t0.38028143737290565\n",
      "  (160, 67)\t0.38028143737290565\n",
      "  (160, 100)\t0.3516981938025441\n",
      "  (160, 184)\t0.3516981938025441\n",
      "  (160, 85)\t0.3314180597459236\n",
      "  (160, 308)\t0.3516981938025441\n",
      "  (160, 217)\t0.29196797131042035\n"
     ]
    }
   ],
   "source": [
    "print(X_train_features)"
   ]
  },
  {
   "cell_type": "code",
   "execution_count": 110,
   "id": "d42360dc-3563-4106-9f01-fba8f20d8b23",
   "metadata": {},
   "outputs": [
    {
     "data": {
      "text/html": [
       "<div>\n",
       "<style scoped>\n",
       "    .dataframe tbody tr th:only-of-type {\n",
       "        vertical-align: middle;\n",
       "    }\n",
       "\n",
       "    .dataframe tbody tr th {\n",
       "        vertical-align: top;\n",
       "    }\n",
       "\n",
       "    .dataframe thead th {\n",
       "        text-align: right;\n",
       "    }\n",
       "</style>\n",
       "<table border=\"1\" class=\"dataframe\">\n",
       "  <thead>\n",
       "    <tr style=\"text-align: right;\">\n",
       "      <th></th>\n",
       "      <th>email</th>\n",
       "    </tr>\n",
       "  </thead>\n",
       "  <tbody>\n",
       "    <tr>\n",
       "      <th>6</th>\n",
       "      <td>Your email account storage is full. Click here...</td>\n",
       "    </tr>\n",
       "    <tr>\n",
       "      <th>73</th>\n",
       "      <td>Thank you for attending our workshop. Here are...</td>\n",
       "    </tr>\n",
       "    <tr>\n",
       "      <th>41</th>\n",
       "      <td>We appreciate your business. Here's a token of...</td>\n",
       "    </tr>\n",
       "    <tr>\n",
       "      <th>47</th>\n",
       "      <td>You've been selected for a free iPhone X. Clic...</td>\n",
       "    </tr>\n",
       "    <tr>\n",
       "      <th>176</th>\n",
       "      <td>Your free trial period is ending soon. Upgrade...</td>\n",
       "    </tr>\n",
       "    <tr>\n",
       "      <th>67</th>\n",
       "      <td>Congratulations! You're our lucky winner of th...</td>\n",
       "    </tr>\n",
       "    <tr>\n",
       "      <th>155</th>\n",
       "      <td>We're thrilled to announce our partnership wit...</td>\n",
       "    </tr>\n",
       "    <tr>\n",
       "      <th>112</th>\n",
       "      <td>Stay in the loop with our newsletter. Subscrib...</td>\n",
       "    </tr>\n",
       "    <tr>\n",
       "      <th>146</th>\n",
       "      <td>We're extending our sale for one more day due ...</td>\n",
       "    </tr>\n",
       "    <tr>\n",
       "      <th>25</th>\n",
       "      <td>We've extended our sale for one more day! Don'...</td>\n",
       "    </tr>\n",
       "    <tr>\n",
       "      <th>87</th>\n",
       "      <td>We're excited to share our latest blog post wi...</td>\n",
       "    </tr>\n",
       "    <tr>\n",
       "      <th>4</th>\n",
       "      <td>Your opinion matters! Take our survey and help...</td>\n",
       "    </tr>\n",
       "    <tr>\n",
       "      <th>23</th>\n",
       "      <td>Your PayPal account has been suspended. Click ...</td>\n",
       "    </tr>\n",
       "    <tr>\n",
       "      <th>3</th>\n",
       "      <td>Your Amazon account has been locked. Click her...</td>\n",
       "    </tr>\n",
       "    <tr>\n",
       "      <th>72</th>\n",
       "      <td>Good morning! Attached is the report you reque...</td>\n",
       "    </tr>\n",
       "    <tr>\n",
       "      <th>126</th>\n",
       "      <td>We've launched a new feature based on user fee...</td>\n",
       "    </tr>\n",
       "    <tr>\n",
       "      <th>133</th>\n",
       "      <td>You're invited to a special event. Click here ...</td>\n",
       "    </tr>\n",
       "    <tr>\n",
       "      <th>86</th>\n",
       "      <td>Your annual membership has been renewed. Enjoy...</td>\n",
       "    </tr>\n",
       "  </tbody>\n",
       "</table>\n",
       "</div>"
      ],
      "text/plain": [
       "                                                 email\n",
       "6    Your email account storage is full. Click here...\n",
       "73   Thank you for attending our workshop. Here are...\n",
       "41   We appreciate your business. Here's a token of...\n",
       "47   You've been selected for a free iPhone X. Clic...\n",
       "176  Your free trial period is ending soon. Upgrade...\n",
       "67   Congratulations! You're our lucky winner of th...\n",
       "155  We're thrilled to announce our partnership wit...\n",
       "112  Stay in the loop with our newsletter. Subscrib...\n",
       "146  We're extending our sale for one more day due ...\n",
       "25   We've extended our sale for one more day! Don'...\n",
       "87   We're excited to share our latest blog post wi...\n",
       "4    Your opinion matters! Take our survey and help...\n",
       "23   Your PayPal account has been suspended. Click ...\n",
       "3    Your Amazon account has been locked. Click her...\n",
       "72   Good morning! Attached is the report you reque...\n",
       "126  We've launched a new feature based on user fee...\n",
       "133  You're invited to a special event. Click here ...\n",
       "86   Your annual membership has been renewed. Enjoy..."
      ]
     },
     "execution_count": 110,
     "metadata": {},
     "output_type": "execute_result"
    }
   ],
   "source": [
    "X_train"
   ]
  },
  {
   "cell_type": "markdown",
   "id": "fca04f47-ec2b-4f5f-be6b-3828069f9808",
   "metadata": {},
   "source": [
    "# Model training"
   ]
  },
  {
   "cell_type": "code",
   "execution_count": 159,
   "id": "96a76950-c676-4ac7-949c-b3e101c780ed",
   "metadata": {},
   "outputs": [],
   "source": [
    "model = LogisticRegression()"
   ]
  },
  {
   "cell_type": "code",
   "execution_count": 160,
   "id": "f8ffa6f1-f505-42cc-8606-361d20b31eab",
   "metadata": {},
   "outputs": [
    {
     "data": {
      "text/html": [
       "<style>#sk-container-id-2 {color: black;}#sk-container-id-2 pre{padding: 0;}#sk-container-id-2 div.sk-toggleable {background-color: white;}#sk-container-id-2 label.sk-toggleable__label {cursor: pointer;display: block;width: 100%;margin-bottom: 0;padding: 0.3em;box-sizing: border-box;text-align: center;}#sk-container-id-2 label.sk-toggleable__label-arrow:before {content: \"▸\";float: left;margin-right: 0.25em;color: #696969;}#sk-container-id-2 label.sk-toggleable__label-arrow:hover:before {color: black;}#sk-container-id-2 div.sk-estimator:hover label.sk-toggleable__label-arrow:before {color: black;}#sk-container-id-2 div.sk-toggleable__content {max-height: 0;max-width: 0;overflow: hidden;text-align: left;background-color: #f0f8ff;}#sk-container-id-2 div.sk-toggleable__content pre {margin: 0.2em;color: black;border-radius: 0.25em;background-color: #f0f8ff;}#sk-container-id-2 input.sk-toggleable__control:checked~div.sk-toggleable__content {max-height: 200px;max-width: 100%;overflow: auto;}#sk-container-id-2 input.sk-toggleable__control:checked~label.sk-toggleable__label-arrow:before {content: \"▾\";}#sk-container-id-2 div.sk-estimator input.sk-toggleable__control:checked~label.sk-toggleable__label {background-color: #d4ebff;}#sk-container-id-2 div.sk-label input.sk-toggleable__control:checked~label.sk-toggleable__label {background-color: #d4ebff;}#sk-container-id-2 input.sk-hidden--visually {border: 0;clip: rect(1px 1px 1px 1px);clip: rect(1px, 1px, 1px, 1px);height: 1px;margin: -1px;overflow: hidden;padding: 0;position: absolute;width: 1px;}#sk-container-id-2 div.sk-estimator {font-family: monospace;background-color: #f0f8ff;border: 1px dotted black;border-radius: 0.25em;box-sizing: border-box;margin-bottom: 0.5em;}#sk-container-id-2 div.sk-estimator:hover {background-color: #d4ebff;}#sk-container-id-2 div.sk-parallel-item::after {content: \"\";width: 100%;border-bottom: 1px solid gray;flex-grow: 1;}#sk-container-id-2 div.sk-label:hover label.sk-toggleable__label {background-color: #d4ebff;}#sk-container-id-2 div.sk-serial::before {content: \"\";position: absolute;border-left: 1px solid gray;box-sizing: border-box;top: 0;bottom: 0;left: 50%;z-index: 0;}#sk-container-id-2 div.sk-serial {display: flex;flex-direction: column;align-items: center;background-color: white;padding-right: 0.2em;padding-left: 0.2em;position: relative;}#sk-container-id-2 div.sk-item {position: relative;z-index: 1;}#sk-container-id-2 div.sk-parallel {display: flex;align-items: stretch;justify-content: center;background-color: white;position: relative;}#sk-container-id-2 div.sk-item::before, #sk-container-id-2 div.sk-parallel-item::before {content: \"\";position: absolute;border-left: 1px solid gray;box-sizing: border-box;top: 0;bottom: 0;left: 50%;z-index: -1;}#sk-container-id-2 div.sk-parallel-item {display: flex;flex-direction: column;z-index: 1;position: relative;background-color: white;}#sk-container-id-2 div.sk-parallel-item:first-child::after {align-self: flex-end;width: 50%;}#sk-container-id-2 div.sk-parallel-item:last-child::after {align-self: flex-start;width: 50%;}#sk-container-id-2 div.sk-parallel-item:only-child::after {width: 0;}#sk-container-id-2 div.sk-dashed-wrapped {border: 1px dashed gray;margin: 0 0.4em 0.5em 0.4em;box-sizing: border-box;padding-bottom: 0.4em;background-color: white;}#sk-container-id-2 div.sk-label label {font-family: monospace;font-weight: bold;display: inline-block;line-height: 1.2em;}#sk-container-id-2 div.sk-label-container {text-align: center;}#sk-container-id-2 div.sk-container {/* jupyter's `normalize.less` sets `[hidden] { display: none; }` but bootstrap.min.css set `[hidden] { display: none !important; }` so we also need the `!important` here to be able to override the default hidden behavior on the sphinx rendered scikit-learn.org. See: https://github.com/scikit-learn/scikit-learn/issues/21755 */display: inline-block !important;position: relative;}#sk-container-id-2 div.sk-text-repr-fallback {display: none;}</style><div id=\"sk-container-id-2\" class=\"sk-top-container\"><div class=\"sk-text-repr-fallback\"><pre>LogisticRegression()</pre><b>In a Jupyter environment, please rerun this cell to show the HTML representation or trust the notebook. <br />On GitHub, the HTML representation is unable to render, please try loading this page with nbviewer.org.</b></div><div class=\"sk-container\" hidden><div class=\"sk-item\"><div class=\"sk-estimator sk-toggleable\"><input class=\"sk-toggleable__control sk-hidden--visually\" id=\"sk-estimator-id-2\" type=\"checkbox\" checked><label for=\"sk-estimator-id-2\" class=\"sk-toggleable__label sk-toggleable__label-arrow\">LogisticRegression</label><div class=\"sk-toggleable__content\"><pre>LogisticRegression()</pre></div></div></div></div></div>"
      ],
      "text/plain": [
       "LogisticRegression()"
      ]
     },
     "execution_count": 160,
     "metadata": {},
     "output_type": "execute_result"
    }
   ],
   "source": [
    "model.fit(X_train_features,y_train)"
   ]
  },
  {
   "cell_type": "markdown",
   "id": "64242be5-8ac6-46b1-96b5-72208ba1d123",
   "metadata": {},
   "source": [
    "# Model predicting"
   ]
  },
  {
   "cell_type": "code",
   "execution_count": 161,
   "id": "ec523467-a4b3-450b-acd0-f038b57176dc",
   "metadata": {},
   "outputs": [],
   "source": [
    "prediction_on_training_data = model.predict(X_train_features)\n",
    "accuracy_on_training_data = accuracy_score(y_train, prediction_on_training_data)"
   ]
  },
  {
   "cell_type": "code",
   "execution_count": 162,
   "id": "603af596-72c7-4ed9-a9d8-c303b0012740",
   "metadata": {},
   "outputs": [
    {
     "name": "stdout",
     "output_type": "stream",
     "text": [
      "0.9875776397515528\n"
     ]
    }
   ],
   "source": [
    "print(accuracy_on_training_data)"
   ]
  },
  {
   "cell_type": "code",
   "execution_count": 163,
   "id": "b5151902-1a04-4a47-9497-0abc11348e40",
   "metadata": {},
   "outputs": [],
   "source": [
    "prediction_on_testing_data = model.predict(X_test_features)\n",
    "accuracy_on_testing_data = accuracy_score(y_test, prediction_on_testing_data)"
   ]
  },
  {
   "cell_type": "code",
   "execution_count": 164,
   "id": "323b40a2-c664-4645-a720-14ac290ec30f",
   "metadata": {},
   "outputs": [
    {
     "name": "stdout",
     "output_type": "stream",
     "text": [
      "1.0\n"
     ]
    }
   ],
   "source": [
    "print(accuracy_on_testing_data)"
   ]
  },
  {
   "cell_type": "markdown",
   "id": "ca1ce271-f8c0-432f-a6fa-d97c5777b2e4",
   "metadata": {},
   "source": [
    "# Building a predictive system"
   ]
  },
  {
   "cell_type": "code",
   "execution_count": 165,
   "id": "dd3a3c57-13df-4bf3-8fa0-5ad88c8528f2",
   "metadata": {},
   "outputs": [
    {
     "name": "stdout",
     "output_type": "stream",
     "text": [
      "Ham mail\n"
     ]
    }
   ],
   "source": [
    "input_mail = ['Your account has been credited with loyalty points. Redeem them for exciting rewards!']\n",
    "input_mail_features = feature_extraction.transform(input_mail)\n",
    "prediction = model.predict(input_mail_features)\n",
    "\n",
    "if(prediction[0]==1):\n",
    "    print('Ham mail')\n",
    "else:\n",
    "    print('Spam mail')"
   ]
  },
  {
   "cell_type": "code",
   "execution_count": null,
   "id": "19d41609-b04a-49c1-860f-932014af2fce",
   "metadata": {},
   "outputs": [],
   "source": []
  }
 ],
 "metadata": {
  "kernelspec": {
   "display_name": "Python 3 (ipykernel)",
   "language": "python",
   "name": "python3"
  },
  "language_info": {
   "codemirror_mode": {
    "name": "ipython",
    "version": 3
   },
   "file_extension": ".py",
   "mimetype": "text/x-python",
   "name": "python",
   "nbconvert_exporter": "python",
   "pygments_lexer": "ipython3",
   "version": "3.12.4"
  }
 },
 "nbformat": 4,
 "nbformat_minor": 5
}
